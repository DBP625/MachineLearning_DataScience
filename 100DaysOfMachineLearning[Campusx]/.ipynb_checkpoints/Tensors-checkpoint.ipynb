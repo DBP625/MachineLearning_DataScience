{
 "cells": [
  {
   "cell_type": "code",
   "execution_count": 2,
   "metadata": {},
   "outputs": [
    {
     "name": "stdout",
     "output_type": "stream",
     "text": [
      "1D Tensor[Vector]:\n",
      "\n",
      "Dimension of Tensor:  1\n",
      "1D Tensor[Vector]:  [1 2 3 4]\n",
      "Dimension of Vector:  (4,)\n",
      "\n",
      "\n",
      "2D Tensor[Matrix]:\n",
      "[[ 1  2  3  4]\n",
      " [ 5  6  7  8]\n",
      " [ 9 10 11 12]]\n",
      "Dimension of 2D/Matrix:  2\n"
     ]
    }
   ],
   "source": [
    "import numpy as np \n",
    "\n",
    "print(\"1D Tensor[Vector]:\\n\")\n",
    "a = np.array([1,2,3,4])\n",
    "print(\"Dimension of Tensor: \", a.ndim)\n",
    "print(\"1D Tensor[Vector]: \", a)\n",
    "print(\"Dimension of Vector: \", a.shape)\n",
    "print(\"\\n\")\n",
    "print(\"2D Tensor[Matrix]:\")                                            \n",
    "Two_D = np.array([[1,2,3,4],\n",
    "                 [5,6,7,8],\n",
    "                 [9,10,11,12]])\n",
    "\n",
    "print(Two_D)\n",
    "print(\"Dimension of 2D/Matrix: \", Two_D.ndim)\n"
   ]
  }
 ],
 "metadata": {
  "kernelspec": {
   "display_name": "Python 3",
   "language": "python",
   "name": "python3"
  },
  "language_info": {
   "codemirror_mode": {
    "name": "ipython",
    "version": 3
   },
   "file_extension": ".py",
   "mimetype": "text/x-python",
   "name": "python",
   "nbconvert_exporter": "python",
   "pygments_lexer": "ipython3",
   "version": "3.12.4"
  }
 },
 "nbformat": 4,
 "nbformat_minor": 2
}
