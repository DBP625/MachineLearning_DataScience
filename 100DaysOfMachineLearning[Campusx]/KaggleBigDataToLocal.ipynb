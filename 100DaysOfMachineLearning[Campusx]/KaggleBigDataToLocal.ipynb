{
 "cells": [
  {
   "cell_type": "code",
   "execution_count": 2,
   "id": "028a6cc8-ec71-459f-84f5-20ea15407b5d",
   "metadata": {
    "editable": true,
    "slideshow": {
     "slide_type": ""
    },
    "tags": []
   },
   "outputs": [],
   "source": [
    "!mkdir -p 4/ .kaggle\n",
    "!cp kaggle.json •so/. kaggle/"
   ]
  },
  {
   "cell_type": "code",
   "execution_count": 7,
   "id": "ea539ff8-273c-44cb-9a72-4ab348d3ff6d",
   "metadata": {},
   "outputs": [],
   "source": [
    "!kaggle datasets download wobotintelligence/face-mask-detection-dataset"
   ]
  }
 ],
 "metadata": {
  "kernelspec": {
   "display_name": "DBP's_ML_Workbench",
   "language": "python",
   "name": "python3"
  },
  "language_info": {
   "codemirror_mode": {
    "name": "ipython",
    "version": 3
   },
   "file_extension": ".py",
   "mimetype": "text/x-python",
   "name": "python",
   "nbconvert_exporter": "python",
   "pygments_lexer": "ipython3",
   "version": "3.12.9"
  }
 },
 "nbformat": 4,
 "nbformat_minor": 5
}
